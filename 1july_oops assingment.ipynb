{
 "cells": [
  {
   "cell_type": "markdown",
   "id": "87a1cc34",
   "metadata": {},
   "source": [
    "1. What is the primary goal of Object-Oriented Programming (OOP)?\n",
    "\n",
    "The main goal of Object-Oriented Programming (OOP) is to make it easier to create and manage software\n",
    "by organizing it like real-world objects and their interactions.\n",
    "It does this by using objects and classes to group data and actions together, promoting code\n",
    "reuse, and helping developers create organized and maintainable code.\n",
    "In simple terms, OOP makes programming more intuitive and efficient by mimicking\n",
    "how things work in the real world."
   ]
  },
  {
   "cell_type": "markdown",
   "id": "5cef3234",
   "metadata": {},
   "source": [
    "2. What is an object in Python?\n",
    "\n",
    "an object is a fundamental concept used to represent and manipulate data.\n",
    "Everything in Python is considered an object.\n",
    "Objects are instances of classes, which are like blueprints that define the structure and behavior\n",
    "of the object.\n",
    "\n",
    "For example, you can have objects representing numbers, strings, lists, and even more complex custom\n",
    "objects that you define in your code.\n",
    "Each object has both data (attributes or properties) and functions (methods) associated with it,\n",
    "which allow you to interact with and manipulate the data.\n",
    "\n",
    "then question arise what is difference between variable and object--\n",
    "\n",
    "Variable: A variable is like a label or a name that you give to an object.\n",
    "It is used to reference and store a particular object in memory.\n",
    "Variables are essentially placeholders for objects.\n",
    "\n",
    "Object: An object is the actual data structure or entity that contains both data (attributes) and \n",
    "functions (methods). Objects are instances of classes and represent specific pieces of data\n",
    "or real-world entities. They have properties and behaviors associated with them."
   ]
  },
  {
   "cell_type": "markdown",
   "id": "5a95404c",
   "metadata": {},
   "source": [
    "3. what is class in python?\n",
    "\n",
    "a class is a blueprint or a template for creating objects. It defines a set of attributes (data) and methods (functions)\n",
    "that objects created from the class will have. \n",
    "Classes are used to create and manage objects with similar properties and behaviors, making it easier to organize\n",
    "and work with code."
   ]
  },
  {
   "cell_type": "markdown",
   "id": "e6cb7699",
   "metadata": {},
   "source": [
    "4. What are attributes and methods in a class?\n",
    "\n",
    "Attributes:\n",
    "\n",
    "Attributes are variables: They represent the data or state associated with an object.\n",
    "Attributes define what information an object can store.\n",
    "\n",
    "Attributes are also known as properties or fields: They hold values that describe the object's characteristics.\n",
    "For example, in a Person class, attributes could include name, age, and gender.\n",
    "\n",
    "Attributes are defined within the class: You specify attributes in the class definition, typically within the constructor\n",
    "method (__init__). Each instance of the class (object) will have its own set of attribute values.\n",
    "\n",
    "Attributes are accessed using dot notation: You can access an object's attributes using the object's name followed by a dot\n",
    "and the attribute name (e.g., object_name.attribute_name).\n",
    "\n",
    "Methods:\n",
    "\n",
    "Methods are functions: They define the behaviors or actions that objects of the class can perform.\n",
    "Methods define what operations an object can carry out.\n",
    "\n",
    "Methods are defined within the class: Just like attributes, methods are defined within the class definition.\n",
    "They are functions that operate on the class's data (attributes).\n",
    "\n",
    "Methods can take parameters: You can define methods that accept parameters, allowing them to receive input and perform actions\n",
    "based on that input.\n",
    "\n",
    "Methods are called on objects: To execute a method, you call it on an object of the class using dot notation\n",
    "(e.g., object_name.method_name())."
   ]
  },
  {
   "cell_type": "markdown",
   "id": "c1b519b9",
   "metadata": {},
   "source": [
    "5. What is the difference between class variables and instance variables in Python?\n",
    "\n",
    "Class Variables:\n",
    "\n",
    "Scope: Class variables are shared among all instances (objects) of the class. They are associated with the class itself,\n",
    "not with specific instances. Changes to a class variable affect all objects of that class.\n",
    "\n",
    "Defined in the class: Class variables are defined within the class but outside of any methods.\n",
    "They are typically declared at the top of the class definition.\n",
    "\n",
    "Accessed using the class name: You can access class variables using the class name itself, followed by a dot\n",
    "and the variable name.\n",
    "\n",
    "Shared data: Since class variables are shared among all instances, they are useful for storing data that should be consistent\n",
    "across all objects of the class. For example, a counter variable in a class for tracking the number of instances created.\n",
    "\n",
    "Instance Variables:\n",
    "\n",
    "Scope: Instance variables are unique to each instance (object) of the class.\n",
    "Each object has its own set of instance variables, and changes to one instance's variables do not affect other instances.\n",
    "\n",
    "Defined in the constructor: Instance variables are typically defined within the constructor method (__init__) of the class.\n",
    "Each instance can have different values for its instance variables.\n",
    "\n",
    "Accessed using the instance name: You access instance variables using the instance name (object name), followed by a dot\n",
    "and the variable name.\n",
    "\n",
    "Individual data: Instance variables are suitable for storing data that is specific to each instance.\n",
    "For example, in a Person class, name and age would be instance variables, as each person has their own name and age."
   ]
  },
  {
   "cell_type": "markdown",
   "id": "b02e4974",
   "metadata": {},
   "source": [
    "6. What is the purpose of the self parameter in Python class methods?\n",
    "\n",
    "the self parameter serves a crucial role. It is a convention (though you could technically name it something else) used to refer\n",
    "to the instance (object) of the class itself. The self parameter allows you to access and manipulate the instance's attributes\n",
    "and call other instance methods within the class.\n",
    "\n",
    "Here's the purpose and importance of the self parameter in Python class methods:\n",
    "\n",
    "Accessing Instance Attributes: Inside a class method, you can use self to access the instance's attributes (instance variables)\n",
    "and perform operations on them. This is essential for working with the data associated with a particular instance.\n",
    "\n",
    "Modifying Instance Attributes: You can use self to modify the values of instance variables.\n",
    "This enables you to change the state of the instance based on the logic within the method.\n",
    "\n",
    "Calling Other Instance Methods: You can call other instance methods within a class using self.\n",
    "This allows you to break down the functionality of a class into smaller, reusable methods and call them as needed.\n",
    "\n",
    "Creating and Managing Multiple Instances: When you create multiple instances of a class, each instance has its own set\n",
    "of attributes and data. The self parameter ensures that methods operate on the specific instance\n",
    "they are called on, preventing confusion or unintended side effects when working with multiple instances of the same class."
   ]
  },
  {
   "cell_type": "raw",
   "id": "869eea6c",
   "metadata": {},
   "source": [
    "7.For a library management system, you have to design the \"Book\" class with OOP\n",
    "\n",
    "principles in mind. The “Book” class will have following attributes:\n",
    "\n",
    "a. title: Represents the title of the book.\n",
    "b. author: Represents the author(s) of the book.\n",
    "c. isbn: Represents the ISBN (International Standard Book Number) of the book.\n",
    "d. publication_year: Represents the year of publication of the book.\n",
    "e. available_copies: Represents the number of copies available for checkout.\n",
    "\n",
    "The class will also include the following methods:\n",
    "\n",
    "a. check_out(self): Decrements the available copies by one if there are copies\n",
    "available for checkout.\n",
    "b. return_book(self): Increments the available copies by one when a book is\n",
    "returned.\n",
    "c. display_book_info(self): Displays the information about the book, including its\n",
    "attributes and the number of available copies.\n"
   ]
  },
  {
   "cell_type": "code",
   "execution_count": 26,
   "id": "7bb83ca2",
   "metadata": {},
   "outputs": [],
   "source": [
    "#answer of 7\n",
    "class books:\n",
    "    def __init__(self,title,author,isbn,publication_year,available_copies):\n",
    "        self.title = title\n",
    "        self.author = author\n",
    "        self.isbn = isbn \n",
    "        self.publication_year = publication_year\n",
    "        self.available_copies = available_copies\n",
    "    \n",
    "            \n",
    "    def check_out(self):\n",
    "        if self.available_copies > 0:\n",
    "            self.available_copies -= 1\n",
    "            print(f\"Book '{self.title}' checked out successfully.\")\n",
    "        else:\n",
    "            print(f\"Sorry, '{self.title}' is currently not available for checkout.\")\n",
    "            \n",
    "        \n",
    "    def return_book(self):\n",
    "        self.available_copies += 1\n",
    "        print(f\"Book '{self.title}' has been returned.\")\n",
    "    \n",
    "    def display_book_info(self):\n",
    "        print(\"Book Information:\")\n",
    "        print(f\"Title: {self.title}\")\n",
    "        print(f\"Author(s): {self.author}\")\n",
    "        print(f\"ISBN: {self.isbn}\")\n",
    "        print(f\"Publication Year: {self.publication_year}\")\n",
    "        print(f\"Available Copies: {self.available_copies}\")\n"
   ]
  },
  {
   "cell_type": "code",
   "execution_count": 27,
   "id": "3e7b099e",
   "metadata": {},
   "outputs": [],
   "source": [
    "book1 = books(\"rich dad poor dad\",\"robert\",1234,2002,10)"
   ]
  },
  {
   "cell_type": "code",
   "execution_count": 28,
   "id": "cc9e6559",
   "metadata": {},
   "outputs": [
    {
     "name": "stdout",
     "output_type": "stream",
     "text": [
      "Book Information:\n",
      "Title: rich dad poor dad\n",
      "Author(s): robert\n",
      "ISBN: 1234\n",
      "Publication Year: 2002\n",
      "Available Copies: 10\n"
     ]
    }
   ],
   "source": [
    "book1.display_book_info()"
   ]
  },
  {
   "cell_type": "code",
   "execution_count": 29,
   "id": "ee1cea76",
   "metadata": {},
   "outputs": [
    {
     "name": "stdout",
     "output_type": "stream",
     "text": [
      "Book 'rich dad poor dad' checked out successfully.\n"
     ]
    }
   ],
   "source": [
    "book1.check_out()"
   ]
  },
  {
   "cell_type": "code",
   "execution_count": 30,
   "id": "caa846ff",
   "metadata": {},
   "outputs": [
    {
     "name": "stdout",
     "output_type": "stream",
     "text": [
      "Book 'rich dad poor dad' has been returned.\n"
     ]
    }
   ],
   "source": [
    "book1.return_book()"
   ]
  },
  {
   "cell_type": "code",
   "execution_count": 32,
   "id": "8dff60b3",
   "metadata": {},
   "outputs": [],
   "source": [
    "#answer8\n",
    "class Ticket:\n",
    "    def __init__(self, ticket_id, event_name, event_date, venue, seat_number, price):\n",
    "        self.ticket_id = ticket_id\n",
    "        self.event_name = event_name\n",
    "        self.event_date = event_date\n",
    "        self.venue = venue\n",
    "        self.seat_number = seat_number\n",
    "        self.price = price\n",
    "        self.is_reserved = False\n",
    "\n",
    "    def reserve_ticket(self):\n",
    "        if not self.is_reserved:\n",
    "            self.is_reserved = True\n",
    "            print(f\"Ticket {self.ticket_id} has been reserved.\")\n",
    "        else:\n",
    "            print(f\"Ticket {self.ticket_id} is already reserved.\")\n",
    "\n",
    "    def cancel_reservation(self):\n",
    "        if self.is_reserved:\n",
    "            self.is_reserved = False\n",
    "            print(f\"Reservation for Ticket {self.ticket_id} has been canceled.\")\n",
    "        else:\n",
    "            print(f\"Ticket {self.ticket_id} is not reserved, so cannot be canceled.\")\n",
    "\n",
    "    def display_ticket_info(self):\n",
    "        reservation_status = \"Reserved\" if self.is_reserved else \"Not Reserved\"\n",
    "        print(f\"Ticket ID: {self.ticket_id}\")\n",
    "        print(f\"Event Name: {self.event_name}\")\n",
    "        print(f\"Event Date: {self.event_date}\")\n",
    "        print(f\"Venue: {self.venue}\")\n",
    "        print(f\"Seat Number: {self.seat_number}\")\n",
    "        print(f\"Price: ${self.price}\")\n",
    "        print(f\"Reservation Status: {reservation_status}\")\n",
    "\n",
    "\n",
    "    "
   ]
  },
  {
   "cell_type": "code",
   "execution_count": 33,
   "id": "103cc49e",
   "metadata": {},
   "outputs": [],
   "source": [
    "ticket1 = Ticket(1, \"Concert\", \"2023-09-15\", \"Music Hall\", \"A101\", 50.0)\n"
   ]
  },
  {
   "cell_type": "code",
   "execution_count": 34,
   "id": "c9e1e6f6",
   "metadata": {},
   "outputs": [
    {
     "name": "stdout",
     "output_type": "stream",
     "text": [
      "Ticket ID: 1\n",
      "Event Name: Concert\n",
      "Event Date: 2023-09-15\n",
      "Venue: Music Hall\n",
      "Seat Number: A101\n",
      "Price: $50.0\n",
      "Reservation Status: Not Reserved\n",
      "Ticket 1 has been reserved.\n",
      "Ticket ID: 1\n",
      "Event Name: Concert\n",
      "Event Date: 2023-09-15\n",
      "Venue: Music Hall\n",
      "Seat Number: A101\n",
      "Price: $50.0\n",
      "Reservation Status: Reserved\n",
      "Ticket 1 is already reserved.\n"
     ]
    }
   ],
   "source": [
    "ticket1.display_ticket_info()\n",
    "ticket1.reserve_ticket()\n",
    "ticket1.display_ticket_info()\n",
    "ticket1.reserve_ticket()\n"
   ]
  },
  {
   "cell_type": "code",
   "execution_count": 38,
   "id": "794f4158",
   "metadata": {},
   "outputs": [],
   "source": [
    "#answer 9\n",
    "class ShoppingCart:\n",
    "    def __init__(self):\n",
    "        self.items = []\n",
    "\n",
    "    def add_item(self, item):\n",
    "        self.items.append(item)\n",
    "        print(f\"Item '{item}' has been added to the shopping cart.\")\n",
    "\n",
    "    def remove_item(self, item):\n",
    "        if item in self.items:\n",
    "            self.items.remove(item)\n",
    "            print(f\"Item '{item}' has been removed from the shopping cart.\")\n",
    "        else:\n",
    "            print(f\"Item '{item}' is not in the shopping cart.\")\n",
    "\n",
    "    def view_cart(self):\n",
    "        if not self.items:\n",
    "            print(\"The shopping cart is empty.\")\n",
    "        else:\n",
    "            print(\"Items in the shopping cart:\")\n",
    "            for item in self.items:\n",
    "                print(f\"- {item}\")\n",
    "    def clear_cart(self):\n",
    "        self.items = []\n",
    "        print(\"The shopping cart has been cleared.\")\n",
    "        "
   ]
  },
  {
   "cell_type": "code",
   "execution_count": 40,
   "id": "804c0b6d",
   "metadata": {},
   "outputs": [
    {
     "name": "stdout",
     "output_type": "stream",
     "text": [
      "Item 'Item 1' has been added to the shopping cart.\n",
      "Item 'Item 2' has been added to the shopping cart.\n",
      "Items in the shopping cart:\n",
      "- Item 1\n",
      "- Item 2\n",
      "Item 'Item 1' has been removed from the shopping cart.\n",
      "Item 'Item 3' is not in the shopping cart.\n",
      "Items in the shopping cart:\n",
      "- Item 2\n",
      "The shopping cart has been cleared.\n",
      "The shopping cart is empty.\n"
     ]
    }
   ],
   "source": [
    "cart = ShoppingCart()\n",
    "\n",
    "cart.add_item(\"Item 1\")\n",
    "cart.add_item(\"Item 2\")\n",
    "\n",
    "cart.view_cart()\n",
    "\n",
    "cart.remove_item(\"Item 1\")\n",
    "cart.remove_item(\"Item 3\")\n",
    "\n",
    "cart.view_cart()\n",
    "\n",
    "cart.clear_cart()\n",
    "cart.view_cart()"
   ]
  },
  {
   "cell_type": "code",
   "execution_count": 95,
   "id": "2a027490",
   "metadata": {},
   "outputs": [],
   "source": [
    "#answer10\n",
    "class Student:\n",
    "    def __init__(self, name, age, grade, student_id):\n",
    "        self.name = name\n",
    "        self.age = age\n",
    "        self.grade = grade\n",
    "        self.student_id = student_id\n",
    "        self.attendance = {}  \n",
    "\n",
    "    def update_attendance(self, date, status):\n",
    "        status = status.lower()\n",
    "        if status in [\"present\", \"absent\"]:\n",
    "            self.attendance[date] = status\n",
    "            print(f\"Attendance for {date}: {status} recorded for {self.name}.\")\n",
    "        else:\n",
    "            print(\"Invalid attendance status. Use 'present' or 'absent'.\")\n",
    "\n",
    "    def get_attendance(self):\n",
    "        return self.attendance\n",
    "\n",
    "    def calculate_average(self):\n",
    "        total_days = len(self.attendance)\n",
    "        if total_days == 0:\n",
    "            return 0\n",
    "        present_count = sum(1 for status in self.attendance.values() if status == \"present\")\n",
    "        average_attendance = (present_count / total_days) * 100\n",
    "        return average_attendance\n",
    "\n",
    "    def __str__(self):\n",
    "        return f\"Student Name: {self.name}\\nAge: {self.age}\\nGrade: {self.grade}\\nStudent ID: {self.student_id}\"\n"
   ]
  },
  {
   "cell_type": "code",
   "execution_count": 96,
   "id": "234f8469",
   "metadata": {},
   "outputs": [],
   "source": [
    "student1 = Student(\"sanskar\", 16, \"10th Grade\", \"S12345\")"
   ]
  },
  {
   "cell_type": "code",
   "execution_count": 100,
   "id": "1d55b7e9",
   "metadata": {},
   "outputs": [
    {
     "name": "stdout",
     "output_type": "stream",
     "text": [
      "Attendance for 2023-09-01: present recorded for sanskar.\n",
      "Attendance for 2023-09-02: absent recorded for sanskar.\n",
      "Attendance for 2023-09-11: present recorded for sanskar.\n",
      "Attendance for 2023-09-12: present recorded for sanskar.\n"
     ]
    }
   ],
   "source": [
    "student1.update_attendance(\"2023-09-01\", \"present\")\n",
    "student1.update_attendance(\"2023-09-02\", \"absent\")\n",
    "student1.update_attendance(\"2023-09-11\", \"present\")\n",
    "student1.update_attendance(\"2023-09-12\", \"present\")\n"
   ]
  },
  {
   "cell_type": "code",
   "execution_count": 101,
   "id": "8e15fdd4",
   "metadata": {},
   "outputs": [
    {
     "name": "stdout",
     "output_type": "stream",
     "text": [
      "Student Name: sanskar\n",
      "Age: 16\n",
      "Grade: 10th Grade\n",
      "Student ID: S12345\n"
     ]
    }
   ],
   "source": [
    " print(student1)"
   ]
  },
  {
   "cell_type": "code",
   "execution_count": 102,
   "id": "0fc33e30",
   "metadata": {},
   "outputs": [
    {
     "name": "stdout",
     "output_type": "stream",
     "text": [
      "{'2023-09-01': 'present', '2023-09-02': 'absent', '2023-09-11': 'present', '2023-09-12': 'present'}\n"
     ]
    }
   ],
   "source": [
    "print(student1.get_attendance())"
   ]
  },
  {
   "cell_type": "code",
   "execution_count": 103,
   "id": "44ebf62b",
   "metadata": {},
   "outputs": [
    {
     "data": {
      "text/plain": [
       "75.0"
      ]
     },
     "execution_count": 103,
     "metadata": {},
     "output_type": "execute_result"
    }
   ],
   "source": [
    "student1.calculate_average()"
   ]
  },
  {
   "cell_type": "code",
   "execution_count": null,
   "id": "f7381e6d",
   "metadata": {},
   "outputs": [],
   "source": []
  }
 ],
 "metadata": {
  "kernelspec": {
   "display_name": "Python 3 (ipykernel)",
   "language": "python",
   "name": "python3"
  },
  "language_info": {
   "codemirror_mode": {
    "name": "ipython",
    "version": 3
   },
   "file_extension": ".py",
   "mimetype": "text/x-python",
   "name": "python",
   "nbconvert_exporter": "python",
   "pygments_lexer": "ipython3",
   "version": "3.10.9"
  }
 },
 "nbformat": 4,
 "nbformat_minor": 5
}
